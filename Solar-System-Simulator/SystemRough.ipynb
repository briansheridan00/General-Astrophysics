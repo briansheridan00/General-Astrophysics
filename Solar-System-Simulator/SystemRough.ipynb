{
 "cells": [
  {
   "cell_type": "markdown",
   "metadata": {},
   "source": [
    "<div align=\"center\">\n",
    "    <h3> Solar System Simulator </h3>\n",
    "</div>\n",
    "\n",
    "<div>\n",
    "\n",
    "<p>We wish to create a program to simulate various types of solar systems and general gravitational interactions. We should start with a star and single planet system, then work our way toward multiplanet systems. We will add such things like elliptical orbits and binary star systems. To make the simulations generalisable, we will develop a class system in order to instantiate each object. \n",
    "</p>\n",
    "\n",
    "<p>\n",
    "Other goals will be to create plots and gifs of the systems. We can also develop long time simulations if our code is efficient. Initiating each solar system with various initial conditions will allow us to do some data science. \n",
    "</p>\n",
    "\n",
    "<p>\n",
    "Eventually we will want to tend toward N-body simulations!  \n",
    "</p>\n",
    "</div>\n",
    "\n",
    "<p>\n",
    "ETH Sols: C:\\Users\\brian\\Documents\\ETHZurich\\MScPhysics\\Semester1\\IntroductionToComputationalPhysics\\Exercise11\\sol11\\solution11.jl  and  C:\\Users\\brian\\Documents\\ETHZurich\\MScPhysics\\Semester1\\IntroductionToComputationalPhysics\\Exercise11\\sol11\\solution11.ipynb\n",
    "</p>\n",
    "\n",
    "--- "
   ]
  },
  {
   "cell_type": "code",
   "execution_count": 2,
   "metadata": {},
   "outputs": [],
   "source": [
    "import numpy as np\n",
    "from scipy import integrate \n",
    "import matplotlib.pyplot as plt \n",
    "import scipy.integrate as integrate \n",
    "from scipy.integrate import quad \n",
    "import scipy.special as special "
   ]
  },
  {
   "cell_type": "code",
   "execution_count": 238,
   "metadata": {},
   "outputs": [],
   "source": [
    "class Body:\n",
    "    def __init__(self, name, mass, position, velocity, accel):\n",
    "        \"\"\"\n",
    "        Here we initialise the star object with parameters.\n",
    "        \"\"\"\n",
    "        self.name = name\n",
    "        self.mass = mass\n",
    "        self.position = np.array(position)\n",
    "        self.velocity = np.array(velocity)\n",
    "        self.accel = np.array(accel)\n",
    "\n",
    "    # Plotting Function. \n",
    "    def plot(self, ax):\n",
    "        names = [\"Sun\", \"Earth\" ]\n",
    "        clrs = [\"yellow\", \"blue\" ]  \n",
    "        sizes = [50, 20]\n",
    "        \n",
    "        try: \n",
    "            idx = names.index(self.name)\n",
    "            color = clrs[idx] \n",
    "            size = sizes[idx] \n",
    "        except ValueError: \n",
    "            color = \"C\"+str(np.random.randint(15))\n",
    "            size = 20 \n",
    "\n",
    "        x, y = self.position \n",
    "        ax.scatter(x, y, c=color, s=size, label=self.name)\n",
    "        if self.name:\n",
    "            ax.legend(loc=\"best\", fontsize=10)"
   ]
  },
  {
   "cell_type": "code",
   "execution_count": 239,
   "metadata": {},
   "outputs": [
    {
     "data": {
      "text/plain": [
       "' \\n# Define plotting function\\n\\ndef PlotAll( objects, lim_val=7):\\n    # Plot. \\n    fig, ax = plt.subplots(figsize=(5,5))\\n    ax.grid(True)\\n\\n    # Create instances.     \\n    #Sun = Star(mass=1000, position=(0,0), name=\"Sun\")  \\n    #Earth = Planet(mass=1, position=(1,0), name=\"Earth\") \\n    for \\n        Sun.plot(ax) #, label=\"Sun\")\\n        Earth.plot(ax)\\n\\n    ax.set_xlim(-lim_val, lim_val)\\n    ax.set_ylim(-lim_val, lim_val) \\n    ax.set_title(\"The Solar System\")\\n\\nUniverse = {\\n    \"Stars\": [ Star(mass=1000, position=(0,0), name=\"Sun\") ] , \\n    \"Planets\": [ Planet(mass=1, position=(1,0), name=\"Earth\") ] ,\\n} \\n'"
      ]
     },
     "execution_count": 239,
     "metadata": {},
     "output_type": "execute_result"
    }
   ],
   "source": [
    "''' \n",
    "# Define plotting function\n",
    "\n",
    "def PlotAll( objects, lim_val=7):\n",
    "    # Plot. \n",
    "    fig, ax = plt.subplots(figsize=(5,5))\n",
    "    ax.grid(True)\n",
    "\n",
    "    # Create instances.     \n",
    "    #Sun = Star(mass=1000, position=(0,0), name=\"Sun\")  \n",
    "    #Earth = Planet(mass=1, position=(1,0), name=\"Earth\") \n",
    "    for \n",
    "        Sun.plot(ax) #, label=\"Sun\")\n",
    "        Earth.plot(ax)\n",
    "\n",
    "    ax.set_xlim(-lim_val, lim_val)\n",
    "    ax.set_ylim(-lim_val, lim_val) \n",
    "    ax.set_title(\"The Solar System\")\n",
    "\n",
    "Universe = {\n",
    "    \"Stars\": [ Star(mass=1000, position=(0,0), name=\"Sun\") ] , \n",
    "    \"Planets\": [ Planet(mass=1, position=(1,0), name=\"Earth\") ] ,\n",
    "} \n",
    "''' "
   ]
  },
  {
   "cell_type": "code",
   "execution_count": null,
   "metadata": {},
   "outputs": [],
   "source": []
  },
  {
   "cell_type": "code",
   "execution_count": 240,
   "metadata": {},
   "outputs": [],
   "source": [
    "# Function to calculate forces without the masses. \n",
    "\n",
    "def CalcForce(body1, body2): # bodies is a vector of all the universe bodies. \n",
    "    G = 0.01 \n",
    "    r = np.array( body1.position ) - np.array( body2.position )\n",
    "    d = np.linalg.norm( r )\n",
    "    f =  - G * r / d**3  \n",
    "    return f \n",
    "\n",
    "# Converted to acceleration by F=ma. \n",
    "def CalcAccel(bodies):\n",
    "    accelerations = []\n",
    "    N = len(bodies)\n",
    "    for i in range(N):\n",
    "        accel = np.zeros(2)  # 2D acceleration (x, y)\n",
    "        for j in range(N):\n",
    "            if i != j:  # Avoid self-interaction\n",
    "                f = CalcForce(bodies[i], bodies[j])\n",
    "                accel += f * bodies[j].mass\n",
    "        accelerations.append(accel)\n",
    "    return accelerations"
   ]
  },
  {
   "cell_type": "code",
   "execution_count": 241,
   "metadata": {},
   "outputs": [
    {
     "data": {
      "text/plain": [
       "[array([0.01, 0.  ]), array([-100.,    0.])]"
      ]
     },
     "execution_count": 241,
     "metadata": {},
     "output_type": "execute_result"
    }
   ],
   "source": [
    "# Create instances.  \n",
    "Sun = Body(name=\"Sun\", mass=10_000, position=[0,0], velocity=[0,0], accel=[0,0])  #Star\n",
    "Earth = Body(name=\"Earth\", mass=1, position=[1,0], velocity=[0,0], accel=[0,0]) #Planet\n",
    "#Jibbi = Body(name=\"Jibbi\", mass=10, position=[5,0], velocity=[0,0], accel=[0,0]) \n",
    "\n",
    "# Add into Universe. \n",
    "Universe = [Sun, Earth]#, Jibbi]\n",
    "\n",
    "CalcAccel(Universe)"
   ]
  },
  {
   "cell_type": "code",
   "execution_count": 251,
   "metadata": {},
   "outputs": [],
   "source": [
    "# Function to calculate a timestep. \n",
    "\n",
    "def TimeStep(bodies, tstep):\n",
    "\n",
    "    init_x = np.array( [b.position for b in bodies] )\n",
    "    init_v = np.array( [b.velocity for b in bodies] ) \n",
    "    init_a = np.array( CalcAccel(bodies) ) \n",
    "\n",
    "    RK1_x = init_v\n",
    "    RK1_v = init_a\n",
    "\n",
    "    RK2_x = init_x + 0.5 * tstep * RK1_x  \n",
    "    RK2_v = init_v + 0.5 * tstep * RK1_v  \n",
    "\n",
    "    RK3_x = init_x + 0.5 * tstep * RK2_x\n",
    "    RK3_v = init_v + 0.5 * tstep * RK2_v \n",
    "\n",
    "    RK4_x = init_x + tstep * RK3_x\n",
    "    RK4_v = init_v + tstep * RK3_v \n",
    "\n",
    "    final_x = init_x + ( RK1_x + 2*RK2_x + 2*RK3_x + RK4_x ) * tstep / 6 \n",
    "    final_v = init_v + ( RK1_v + 2*RK2_v + 2*RK3_v + RK4_v ) * tstep / 6 \n",
    "\n",
    "    # Update the bodies\n",
    "    for i, b in enumerate(bodies):\n",
    "        b.position = final_x[i]\n",
    "        b.velocity = final_v[i]\n",
    "        #b.accel = init_a[i]  \n"
   ]
  },
  {
   "cell_type": "code",
   "execution_count": null,
   "metadata": {},
   "outputs": [],
   "source": []
  },
  {
   "cell_type": "code",
   "execution_count": 252,
   "metadata": {},
   "outputs": [],
   "source": [
    "# Simulation function. \n",
    "\n",
    "def Simulate(bodies, tstep, maxT): \n",
    "\n",
    "    trajectories = {body.name: [] for body in bodies}\n",
    "\n",
    "    time = 0\n",
    "    while time < maxT:\n",
    "        for body in bodies:\n",
    "            trajectories[body.name].append( body.position.copy() )\n",
    "        TimeStep(bodies, tstep)\n",
    "        time += tstep \n",
    "        \n",
    "    for name in trajectories:\n",
    "        trajectories[name] = np.array( trajectories[name] ) \n",
    "\n",
    "    return trajectories "
   ]
  },
  {
   "cell_type": "code",
   "execution_count": 253,
   "metadata": {},
   "outputs": [],
   "source": [
    "# Create instances.  \n",
    "Sun = Body(name=\"Sun\", mass=10_000, position=[0,0], velocity=[0,0], accel=[0,0])  #Star\n",
    "Earth = Body(name=\"Earth\", mass=1, position=[1,0], velocity=[0,0], accel=[0,0]) #Planet\n",
    "#Jibbi = Body(name=\"Jibbi\", mass=10, position=[5,0], velocity=[0,0], accel=[0,0]) \n",
    "\n",
    "# Add into Universe. \n",
    "Universe = [Sun, Earth]#, Jibbi]\n",
    "\n",
    "ts = np.arange( 0, 1, 0.001 )\n",
    "\n",
    "res1 = Simulate(Universe, tstep=0.001, maxT=1)"
   ]
  },
  {
   "cell_type": "code",
   "execution_count": 254,
   "metadata": {},
   "outputs": [
    {
     "data": {
      "image/png": "[encoded data removed]",
      "text/plain": [
       "<Figure size 800x300 with 2 Axes>"
      ]
     },
     "metadata": {},
     "output_type": "display_data"
    }
   ],
   "source": [
    "plt.figure(figsize=(8,3))\n",
    "\n",
    "plt.subplot(1,2,1) \n",
    "plt.plot(ts, res1[\"Sun\"][:,0] )\n",
    "\n",
    "plt.subplot(1,2,2)\n",
    "plt.plot(ts, res1[\"Earth\"][:,0] )\n",
    "\n",
    "plt.tight_layout()"
   ]
  },
  {
   "cell_type": "code",
   "execution_count": null,
   "metadata": {},
   "outputs": [],
   "source": []
  },
  {
   "cell_type": "code",
   "execution_count": null,
   "metadata": {},
   "outputs": [],
   "source": []
  },
  {
   "cell_type": "code",
   "execution_count": 168,
   "metadata": {},
   "outputs": [
    {
     "name": "stdout",
     "output_type": "stream",
     "text": [
      "Check initial force pairs\n",
      "[-0.01 -0.  ]\n",
      "\n",
      "---\n",
      "Before Run:\n",
      "[0 0]\n",
      "[0 0]\n",
      "After Run:\n",
      "[1.66833417e-06 0.00000000e+00]\n",
      "[-0.01668334  0.        ]\n"
     ]
    }
   ],
   "source": [
    "# Create instances.  \n",
    "Sun = Body(name=\"Sun\", mass=10_000, position=[0,0], velocity=[0,0], accel=[0,0])  #Star\n",
    "Earth = Body(name=\"Earth\", mass=1, position=[1,0], velocity=[0,0], accel=[0,0]) #Planet\n",
    "#Jibbi = Body(name=\"Jibbi\", mass=10, position=[5,0], velocity=[0,0], accel=[0,0]) \n",
    "\n",
    "# Add into Universe. \n",
    "Universe = [Sun, Earth]#, Jibbi]\n",
    "\n",
    "print(\"Check initial force pairs\") \n",
    "for i in range(0,len(Universe)):\n",
    "    for j in range(i+1, len(Universe)):\n",
    "        print(CalcForce(Universe[i], Universe[j]))\n",
    "print(\"\")\n",
    "\n",
    "print(\"---\")\n",
    "\n",
    "print(\"Before Run:\")\n",
    "for b in Universe:\n",
    "    print(b.velocity) \n",
    "\n",
    "TimeStep(Universe, tstep=0.001)  \n",
    "\n",
    "print(\"After Run:\")\n",
    "for b in Universe:\n",
    "    print(b.velocity) "
   ]
  },
  {
   "cell_type": "code",
   "execution_count": null,
   "metadata": {},
   "outputs": [],
   "source": []
  },
  {
   "cell_type": "code",
   "execution_count": null,
   "metadata": {},
   "outputs": [],
   "source": []
  },
  {
   "cell_type": "code",
   "execution_count": 169,
   "metadata": {},
   "outputs": [],
   "source": [
    "# Function to simulate the passage of events. Start with a stack of subplot grids. Then make a vide/gif out of it.  \n"
   ]
  },
  {
   "cell_type": "code",
   "execution_count": null,
   "metadata": {},
   "outputs": [],
   "source": []
  },
  {
   "cell_type": "code",
   "execution_count": 170,
   "metadata": {},
   "outputs": [
    {
     "data": {
      "text/plain": [
       "Text(0.5, 1.0, 'The Solar System')"
      ]
     },
     "execution_count": 170,
     "metadata": {},
     "output_type": "execute_result"
    },
    {
     "data": {
      "image/png": "[encoded data removed]",
      "text/plain": [
       "<Figure size 500x500 with 1 Axes>"
      ]
     },
     "metadata": {},
     "output_type": "display_data"
    }
   ],
   "source": [
    "# Plot. \n",
    "fig, ax = plt.subplots(figsize=(5,5))\n",
    "ax.grid(True)\n",
    "\n",
    "# Create instances.  \n",
    "Sun = Body(name=\"Sun\", mass=10_000, position=[0,0], velocity=[0,0], accel=[0,0])  #Star\n",
    "Earth = Body(name=\"Earth\", mass=1, position=[1,0], velocity=[0,0], accel=[0,0]) #Planet\n",
    "Jibbi = Body(name=\"Jibbi\", mass=10, position=[5,0], velocity=[0,0], accel=[0,0]) \n",
    "\n",
    "# Add into Universe. \n",
    "Universe = [Sun, Earth, Jibbi]\n",
    "\n",
    "for body in Universe:\n",
    "    body.plot(ax)\n",
    "    #Sun.plot(ax) #, label=\"Sun\")\n",
    "    #Earth.plot(ax)\n",
    "    #Jibbi.plot(ax)\n",
    "\n",
    "lim_val = 7\n",
    "ax.set_xlim(-lim_val, lim_val)\n",
    "ax.set_ylim(-lim_val, lim_val) \n",
    "ax.set_title(\"The Solar System\")"
   ]
  },
  {
   "cell_type": "code",
   "execution_count": null,
   "metadata": {},
   "outputs": [],
   "source": []
  },
  {
   "cell_type": "code",
   "execution_count": null,
   "metadata": {},
   "outputs": [],
   "source": []
  },
  {
   "cell_type": "code",
   "execution_count": null,
   "metadata": {},
   "outputs": [],
   "source": []
  },
  {
   "cell_type": "markdown",
   "metadata": {},
   "source": [
    "## Rough 2"
   ]
  },
  {
   "cell_type": "code",
   "execution_count": 1,
   "metadata": {},
   "outputs": [],
   "source": [
    "class Body:\n",
    "    def __init__(self, name, mass, position, velocity, accel):\n",
    "        \"\"\"\n",
    "        Here we initialise the star object with parameters.\n",
    "        \"\"\"\n",
    "        self.name = name\n",
    "        self.mass = mass\n",
    "        self.position = np.array(position)\n",
    "        self.velocity = np.array(velocity)\n",
    "        self.accel = np.array(accel)\n",
    "\n",
    "    # Plotting Function. \n",
    "    def plot(self, ax):\n",
    "        names = [\"Sun\", \"Earth\" ]\n",
    "        clrs = [\"yellow\", \"blue\" ]  \n",
    "        sizes = [50, 20]\n",
    "        \n",
    "        try: \n",
    "            idx = names.index(self.name)\n",
    "            color = clrs[idx] \n",
    "            size = sizes[idx] \n",
    "        except ValueError: \n",
    "            color = \"C\"+str(np.random.randint(15))\n",
    "            size = 20 \n",
    "\n",
    "        x, y = self.position \n",
    "        ax.scatter(x, y, c=color, s=size, label=self.name)\n",
    "        if self.name:\n",
    "            ax.legend(loc=\"best\", fontsize=10)\n",
    "\n",
    "# Function to calculate forces without the masses. \n",
    "\n",
    "def CalcForce(body1, body2): # bodies is a vector of all the universe bodies. \n",
    "    G = 0.00001 \n",
    "    r = np.array( body1.position ) - np.array( body2.position )\n",
    "    d = np.linalg.norm( r )\n",
    "    f =  - G * r / d**3  \n",
    "    return f \n",
    "\n",
    "# Converted to acceleration by F=ma. \n",
    "def CalcAccel(bodies):\n",
    "    accelerations = []\n",
    "    N = len(bodies)\n",
    "    for i in range(N):\n",
    "        accel = np.zeros(2)  # 2D acceleration (x, y)\n",
    "        for j in range(N):\n",
    "            if i != j:  # Avoid self-interaction\n",
    "                f = CalcForce(bodies[i], bodies[j])\n",
    "                accel += f * bodies[j].mass\n",
    "        accelerations.append(accel)\n",
    "    return accelerations\n",
    "\n",
    "def TimeStep(bodies, tstep):\n",
    "\n",
    "    Euler_x = np.array( [b.position for b in bodies] )\n",
    "    Euler_v = np.array( [b.velocity for b in bodies] )\n",
    "    Euler_a = np.array( CalcAccel(bodies) )\n",
    "\n",
    "    final_x = np.array( [Euler_x[i] + tstep * Euler_v[i] for i in range(len(bodies)) ] )\n",
    "    final_v = np.array( [Euler_v[i] + tstep * Euler_a[i] for i in range(len(bodies)) ] )\n",
    "\n",
    "    # Update the bodies\n",
    "    for i, b in enumerate(bodies):\n",
    "        b.position = final_x[i]\n",
    "        b.velocity = final_v[i]\n",
    "\n",
    "# Simulation function. \n",
    "\n",
    "def Simulate(bodies, tstep, maxT, plot=False): \n",
    "\n",
    "    trajectories = {body.name: [] for body in bodies}\n",
    "\n",
    "    times = []\n",
    "    time = 0\n",
    "    while time < maxT:\n",
    "        times.append(time)\n",
    "        for body in bodies:\n",
    "            trajectories[body.name].append( body.position.copy() )\n",
    "        TimeStep(bodies, tstep)\n",
    "        time += tstep \n",
    "        \n",
    "    for name in trajectories:\n",
    "        trajectories[name] = np.array( trajectories[name] ) \n",
    "\n",
    "    return [times, trajectories]"
   ]
  },
  {
   "cell_type": "code",
   "execution_count": 3,
   "metadata": {},
   "outputs": [
    {
     "data": {
      "text/plain": [
       "[<matplotlib.lines.Line2D at 0x1b0cb88a0d0>]"
      ]
     },
     "execution_count": 3,
     "metadata": {},
     "output_type": "execute_result"
    },
    {
     "data": {
      "image/png": "[encoded data removed]",
      "text/plain": [
       "<Figure size 700x300 with 2 Axes>"
      ]
     },
     "metadata": {},
     "output_type": "display_data"
    }
   ],
   "source": [
    "# Create instances.  \n",
    "Sun = Body(name=\"Sun\", mass=10_000, position=[0,0], velocity=[0,0], accel=[0,0])  #Star\n",
    "Earth = Body(name=\"Earth\", mass=1, position=[1,0], velocity=[0,0], accel=[0,0]) #Planet\n",
    "\n",
    "# Add into Universe. \n",
    "Universe = [Sun, Earth]#, Jibbi]\n",
    "\n",
    "# Simulation \n",
    "ts, res1 = Simulate(Universe, tstep=0.001, maxT=2, plot=True)\n",
    "\n",
    "\n",
    "# Plot\n",
    "plt.figure(figsize=(7,3))\n",
    "\n",
    "plt.subplot(1,2,1)\n",
    "plt.plot(ts, res1[\"Sun\"][:,0])\n",
    "\n",
    "plt.subplot(1,2,2)\n",
    "plt.plot(ts, res1[\"Earth\"][:,0])"
   ]
  },
  {
   "cell_type": "code",
   "execution_count": null,
   "metadata": {},
   "outputs": [],
   "source": []
  },
  {
   "cell_type": "code",
   "execution_count": null,
   "metadata": {},
   "outputs": [],
   "source": []
  },
  {
   "cell_type": "markdown",
   "metadata": {},
   "source": [
    "## Rough 3 "
   ]
  },
  {
   "cell_type": "code",
   "execution_count": 16,
   "metadata": {},
   "outputs": [
    {
     "data": {
      "image/png": "[encoded data removed]",
      "text/plain": [
       "<Figure size 800x800 with 1 Axes>"
      ]
     },
     "metadata": {},
     "output_type": "display_data"
    }
   ],
   "source": [
    "import numpy as np\n",
    "import matplotlib.pyplot as plt\n",
    "from typing import List, Tuple\n",
    "\n",
    "class Sun:\n",
    "    \"\"\"Represents a star at the center of the simulation.\"\"\"\n",
    "    def __init__(self, mass: float, position: np.ndarray = np.array([0.0, 0.0]), velocity: np.ndarray = np.array([0.0, 0.0])):\n",
    "        \"\"\"\n",
    "        Initializes the Sun.\n",
    "\n",
    "        Args:\n",
    "            mass (float): The mass of the sun.\n",
    "            position (np.ndarray): The initial 2D position of the sun [x, y]. Defaults to [0, 0].\n",
    "            velocity (np.ndarray): The initial 2D velocity of the sun [vx, vy]. Defaults to [0, 0].\n",
    "        \"\"\"\n",
    "        self.mass = mass\n",
    "        self.position = np.array(position, dtype=float)\n",
    "        self.velocity = np.array(velocity, dtype=float)\n",
    "\n",
    "    def __repr__(self):\n",
    "        return f\"Sun(mass={self.mass:.2e}, position={self.position}, velocity={self.velocity})\"\n",
    "\n",
    "\n",
    "class Body:\n",
    "    \"\"\"Represents a planet or other orbiting body.\"\"\"\n",
    "    def __init__(self, mass: float, position: np.ndarray, velocity: np.ndarray):\n",
    "        \"\"\"\n",
    "        Initializes the Body.\n",
    "\n",
    "        Args:\n",
    "            mass (float): The mass of the body.\n",
    "            position (np.ndarray): The initial 2D position of the body [x, y].\n",
    "            velocity (np.ndarray): The initial 2D velocity of the body [vx, vy].\n",
    "        \"\"\"\n",
    "        self.mass = mass\n",
    "        self.position = np.array(position, dtype=float)\n",
    "        self.velocity = np.array(velocity, dtype=float)\n",
    "        self.trajectory = [self.position.copy()]  # Store the trajectory\n",
    "\n",
    "    def __repr__(self):\n",
    "        return f\"Body(mass={self.mass:.2e}, position={self.position}, velocity={self.velocity})\"\n",
    "\n",
    "\n",
    "def gravitational_force(body1: Body, body2: Body, G: float = 1.0) -> np.ndarray:\n",
    "    \"\"\"\n",
    "    Calculates the gravitational force exerted by body2 on body1.\n",
    "\n",
    "    Args:\n",
    "        body1 (Body): The body experiencing the force.\n",
    "        body2 (Body): The body exerting the force.\n",
    "        G (float): The gravitational constant. Defaults to 1.0.\n",
    "\n",
    "    Returns:\n",
    "        np.ndarray: The 2D force vector acting on body1.\n",
    "    \"\"\"\n",
    "    r_vec = body2.position - body1.position\n",
    "    distance_sq = np.sum(r_vec**2)\n",
    "    distance = np.sqrt(distance_sq)\n",
    "    if distance > 0:\n",
    "        force_magnitude = (G * body1.mass * body2.mass) / distance_sq\n",
    "        force_vector = force_magnitude * (r_vec / distance)\n",
    "        return force_vector\n",
    "    else:\n",
    "        return np.array([0.0, 0.0])\n",
    "\n",
    "\n",
    "\n",
    "def acceleration(body: Body, system: List[Body or Sun], G: float = 1.0) -> np.ndarray:\n",
    "    \"\"\"\n",
    "    Calculates the net acceleration on a body due to all other bodies in the system.\n",
    "\n",
    "    Args:\n",
    "        body (Body): The body for which to calculate acceleration.\n",
    "        system (list): A list of all bodies in the simulation (including the sun).\n",
    "        G (float): The gravitational constant. Defaults to 1.0.\n",
    "\n",
    "    Returns:\n",
    "        np.ndarray: The 2D acceleration vector of the body.\n",
    "    \"\"\"\n",
    "    net_force = np.array([0.0, 0.0])\n",
    "    for other_body in system:\n",
    "        if body != other_body:\n",
    "            net_force += gravitational_force(body, other_body, G)\n",
    "    return net_force / body.mass\n",
    "\n",
    "\n",
    "\n",
    "def rk4_step(body: Body, system: List[Body or Sun], dt: float, G: float = 1.0) -> Tuple[np.ndarray, np.ndarray]:\n",
    "    \"\"\"\n",
    "    Performs one step of the Runge-Kutta 4th order method to update the body's state.\n",
    "\n",
    "    Args:\n",
    "        body (Body): The body to update.\n",
    "        system (list): A list of all bodies in the simulation.\n",
    "        dt (float): The time step.\n",
    "        G (float): The gravitational constant. Defaults to 1.0.\n",
    "\n",
    "    Returns:\n",
    "        tuple: The change in position (dpos) and change in velocity (dvel) for this step.\n",
    "    \"\"\"\n",
    "    def derivative(current_body: Body) -> Tuple[np.ndarray, np.ndarray]:\n",
    "        return current_body.velocity, acceleration(current_body, system, G)\n",
    "\n",
    "    k1_v, k1_a = derivative(body)\n",
    "    k2_v, k2_a = derivative(Body(body.mass, body.position + 0.5 * dt * k1_v, body.velocity + 0.5 * dt * k1_a))\n",
    "    k3_v, k3_a = derivative(Body(body.mass, body.position + 0.5 * dt * k2_v, body.velocity + 0.5 * dt * k2_a))\n",
    "    k4_v, k4_a = derivative(Body(body.mass, body.position + dt * k3_v, body.velocity + dt * k3_a))\n",
    "\n",
    "    dpos = dt * (k1_v + 2 * k2_v + 2 * k3_v + k4_v) / 6\n",
    "    dvel = dt * (k1_a + 2 * k2_a + 2 * k3_a + k4_a) / 6\n",
    "    return dpos, dvel\n",
    "\n",
    "\n",
    "\n",
    "def simulate(sun: Sun, planets: List[Body], time: float, dt: float, G: float = 1.0) -> Tuple[Sun, List[Body]]:\n",
    "    \"\"\"\n",
    "    Simulates the orbital motion of the planets around the sun.\n",
    "\n",
    "    Args:\n",
    "        sun (Sun): The central sun object.\n",
    "        planets (list): A list of Body objects representing the planets.\n",
    "        time (float): The total simulation time.\n",
    "        dt (float): The time step for the simulation.\n",
    "        G (float): The gravitational constant. Defaults to 1.0.\n",
    "\n",
    "    Returns:\n",
    "        tuple: A tuple containing the sun object and the list of planet objects\n",
    "               with their updated trajectories.\n",
    "    \"\"\"\n",
    "    system = [sun] + planets\n",
    "    num_steps = int(time / dt)\n",
    "\n",
    "    for _ in range(num_steps):\n",
    "        for body in system:\n",
    "            if isinstance(body, Body):\n",
    "                dpos, dvel = rk4_step(body, system, dt, G)\n",
    "                body.position += dpos\n",
    "                body.velocity += dvel\n",
    "                body.trajectory.append(body.position.copy())\n",
    "        # For simplicity, we assume the sun is massive enough to not move significantly\n",
    "        # In a more accurate simulation, the sun's motion should also be updated.\n",
    "\n",
    "    return sun, planets\n",
    "\n",
    "\n",
    "\n",
    "def plot_trajectories(sun: Sun, planets: List[Body]) -> None:\n",
    "    \"\"\"\n",
    "    Plots the trajectories of the planets and the position of the sun.\n",
    "\n",
    "    Args:\n",
    "        sun (Sun): The Sun object.\n",
    "        planets (list): A list of Body objects.\n",
    "    \"\"\"\n",
    "    plt.figure(figsize=(8, 8))\n",
    "    plt.scatter(sun.position[0], sun.position[1], color='yellow', s=100, label='Sun')\n",
    "    for planet in planets:\n",
    "        trajectory = np.array(planet.trajectory)\n",
    "        plt.plot(trajectory[:, 0], trajectory[:, 1], label=f'Planet (m={planet.mass:.2e})')\n",
    "        plt.scatter(trajectory[0, 0], trajectory[0, 1], marker='o', s=30)  # Mark initial position\n",
    "\n",
    "    plt.xlabel(\"X Position\")\n",
    "    plt.ylabel(\"Y Position\")\n",
    "    plt.title(\"Orbital Simulation\")\n",
    "    plt.legend()\n",
    "    plt.grid(True)\n",
    "    #plt.gca().set_aspect('equal', adjustable='box')\n",
    "    plt.show()\n",
    "\n",
    "\n",
    "\n",
    "if __name__ == \"__main__\":\n",
    "    # Set up the simulation\n",
    "    sun_mass = 1000.0\n",
    "    sun = Sun(mass=sun_mass)\n",
    "\n",
    "    planet1 = Body(\n",
    "        mass=1.0,\n",
    "        position=np.array([10.0, 0.0]),\n",
    "        velocity=np.array([0.0, -0.0])\n",
    "    )\n",
    "\n",
    "\n",
    "    planets = [planet1]  # Just one planet for now\n",
    "    total_time = 10.0\n",
    "    time_step = 0.01\n",
    "    gravitational_constant = 10.0\n",
    "\n",
    "    # Run the simulation\n",
    "    sim_sun, sim_planets = simulate(sun, planets, total_time, time_step, gravitational_constant)\n",
    "\n",
    "    # Plot the trajectories\n",
    "    plot_trajectories(sim_sun, sim_planets)\n"
   ]
  },
  {
   "cell_type": "code",
   "execution_count": null,
   "metadata": {},
   "outputs": [],
   "source": []
  },
  {
   "cell_type": "code",
   "execution_count": null,
   "metadata": {},
   "outputs": [],
   "source": []
  }
 ],
 "metadata": {
  "kernelspec": {
   "display_name": "Python 3",
   "language": "python",
   "name": "python3"
  },
  "language_info": {
   "codemirror_mode": {
    "name": "ipython",
    "version": 3
   },
   "file_extension": ".py",
   "mimetype": "text/x-python",
   "name": "python",
   "nbconvert_exporter": "python",
   "pygments_lexer": "ipython3",
   "version": "3.13.3"
  }
 },
 "nbformat": 4,
 "nbformat_minor": 2
}
